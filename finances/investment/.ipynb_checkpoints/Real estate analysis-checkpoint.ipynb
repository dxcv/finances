{
 "cells": [
  {
   "cell_type": "markdown",
   "metadata": {},
   "source": [
    "# Investing in real-estate"
   ]
  },
  {
   "cell_type": "code",
   "execution_count": 2,
   "metadata": {},
   "outputs": [],
   "source": [
    "import pandas as pd\n",
    "import numpy as np\n",
    "import matplotlib.pyplot as plt\n",
    "\n",
    "%matplotlib inline"
   ]
  },
  {
   "cell_type": "markdown",
   "metadata": {},
   "source": [
    "## House investment"
   ]
  },
  {
   "cell_type": "code",
   "execution_count": 48,
   "metadata": {},
   "outputs": [],
   "source": [
    "def value_house(n_years, house_value, house_ret):\n",
    "    return house_value*(1+house_ret)**n_years\n",
    "\n",
    "\n",
    "def total_pay_to_bank(\n",
    "    house_value,\n",
    "    n_years_plan,\n",
    "    int_rate_house,\n",
    "    initial_investment,\n",
    "    fixed_initial_costs=[0]\n",
    "    ):\n",
    "    \n",
    "    loan = house_value-initial_investment+np.sum(fixed_initial_costs)\n",
    "    pay_to_bank = loan*(1+int_rate_house)**n_years_plan\n",
    "    return pay_to_bank\n",
    "\n",
    "def house_investment_return(\n",
    "    house_value,\n",
    "    initial_investment,\n",
    "    int_rate,\n",
    "    value_rate,\n",
    "    n_years,\n",
    "    fixed_initial_costs=[0],\n",
    "    fixed_yearly_costs=[0]\n",
    "    ):\n",
    "    \n",
    "    pay_to_bank = total_pay_to_bank(\n",
    "        house_value,\n",
    "        n_years,\n",
    "        int_rate,\n",
    "        initial_investment,\n",
    "        fixed_initial_costs\n",
    "    )\n",
    "    total_yearly_costs = np.sum(fixed_yearly_costs)*n_years\n",
    "    total_paid = pay_to_bank+total_yearly_costs+initial_investment\n",
    "    \n",
    "    house_value = house_value*(1+value_rate)**n_years\n",
    "    total_investment_return = house_value-total_paid\n",
    "    \n",
    "    return total_investment_return"
   ]
  },
  {
   "cell_type": "code",
   "execution_count": null,
   "metadata": {},
   "outputs": [],
   "source": []
  },
  {
   "cell_type": "code",
   "execution_count": 49,
   "metadata": {},
   "outputs": [],
   "source": [
    "def monthly_pay_house(\n",
    "    house_value,\n",
    "    n_years,\n",
    "    int_rate,\n",
    "    initial_investment,\n",
    "    fixed_initial_costs,\n",
    "    monthly_expenses = 0\n",
    "    ):\n",
    "    \n",
    "    monthly_to_bank = total_pay_to_bank(\n",
    "        house_value,\n",
    "        n_years,\n",
    "        int_rate,\n",
    "        initial_investment,\n",
    "        fixed_initial_costs\n",
    "        )/n_years/12.0\n",
    "\n",
    "    return monthly_expenses + monthly_to_bank\n"
   ]
  },
  {
   "cell_type": "markdown",
   "metadata": {},
   "source": [
    "# Return in other investment"
   ]
  },
  {
   "cell_type": "code",
   "execution_count": 163,
   "metadata": {},
   "outputs": [],
   "source": [
    "def return_on_investment(initial_investment, yearly_return, monthly_io, n_years):\n",
    "    if monthly_io<0:\n",
    "        print('Negative monthly io')\n",
    "    value = initial_investment\n",
    "    monthly_return = (1+yearly_return)**(1/12.0)-1.0\n",
    "    for k in range(n_years):\n",
    "        for month in range(12):\n",
    "            value*=(1+monthly_return)\n",
    "            value+=monthly_io\n",
    "    return value"
   ]
  },
  {
   "cell_type": "code",
   "execution_count": 164,
   "metadata": {},
   "outputs": [
    {
     "data": {
      "text/plain": [
       "112900.64065751707"
      ]
     },
     "execution_count": 164,
     "metadata": {},
     "output_type": "execute_result"
    }
   ],
   "source": [
    "return_on_investment(\n",
    "    initial_investment,\n",
    "    yearly_return=0.1,\n",
    "    monthly_io=500,\n",
    "    n_years=n_years)"
   ]
  },
  {
   "cell_type": "markdown",
   "metadata": {},
   "source": [
    "# Putting the two together\n",
    "\n",
    "If I buy a house, the ammount I will need to pay to the bank, monthly, is given by the function monthly_pay_house.\n",
    "\n",
    "These will be the only expenses I have for the house.\n",
    "\n",
    "On the other hand, if I rent the house, I have to pay the rent monthly, and that's it. Consider the month_diff to be the difference between what I pay monthly if I owned a house and what I pay for rent.\n",
    "\n",
    "Imagine that I take my initial investment and month_diff of each month and I invest it in a security with a given yearly rate return.\n",
    "\n",
    "Under which conditions is buying a house more advantageous?"
   ]
  },
  {
   "cell_type": "code",
   "execution_count": 220,
   "metadata": {},
   "outputs": [],
   "source": [
    "house_value = 250000.0\n",
    "initial_investment = 0.0\n",
    "int_rate = 0.02\n",
    "value_house_rate = 0.05\n",
    "n_years = 20\n",
    "rent = 775\n",
    "investment_return = 0.05\n",
    "fixed_initial_costs = np.array([\n",
    "    house_value*0.1, # register\n",
    "    3000, #notary\n",
    "    ])\n",
    "fixed_yearly_costs = np.array([0])"
   ]
  },
  {
   "cell_type": "code",
   "execution_count": 221,
   "metadata": {},
   "outputs": [
    {
     "data": {
      "text/plain": [
       "250231.05020412285"
      ]
     },
     "execution_count": 221,
     "metadata": {},
     "output_type": "execute_result"
    }
   ],
   "source": [
    "house_investment_return(\n",
    "    house_value,\n",
    "    initial_investment,\n",
    "    int_rate,\n",
    "    value_house_rate,\n",
    "    n_years,\n",
    "    fixed_initial_costs,\n",
    "    fixed_yearly_costs)"
   ]
  },
  {
   "cell_type": "code",
   "execution_count": 222,
   "metadata": {},
   "outputs": [
    {
     "data": {
      "text/plain": [
       "1721.2224003415947"
      ]
     },
     "execution_count": 222,
     "metadata": {},
     "output_type": "execute_result"
    }
   ],
   "source": [
    "monthly_pay_house(\n",
    "    house_value,\n",
    "    n_years,\n",
    "    int_rate,\n",
    "    initial_investment,\n",
    "    fixed_initial_costs,\n",
    "    monthly_expenses = 0\n",
    "    )"
   ]
  },
  {
   "cell_type": "code",
   "execution_count": 223,
   "metadata": {},
   "outputs": [
    {
     "name": "stdout",
     "output_type": "stream",
     "text": [
      "946.2224003415947\n"
     ]
    }
   ],
   "source": [
    "month_diff = monthly_pay_house(\n",
    "    house_value,\n",
    "    n_years,\n",
    "    int_rate,\n",
    "    initial_investment,\n",
    "    fixed_initial_costs,\n",
    "    monthly_expenses = np.sum(fixed_yearly_costs)/12\n",
    "    ) - rent\n",
    "\n",
    "print(month_diff)\n",
    "\n",
    "final_investment_value = return_on_investment(\n",
    "    initial_investment,\n",
    "    yearly_return=investment_return,\n",
    "    monthly_io=month_diff,\n",
    "    n_years=n_years)"
   ]
  },
  {
   "cell_type": "code",
   "execution_count": 224,
   "metadata": {},
   "outputs": [
    {
     "data": {
      "text/plain": [
       "249293.88449042646"
      ]
     },
     "execution_count": 224,
     "metadata": {},
     "output_type": "execute_result"
    }
   ],
   "source": [
    "final_investment_value - house_investment_return(\n",
    "    house_value,\n",
    "    initial_investment,\n",
    "    int_rate,\n",
    "    value_rate,\n",
    "    n_years,\n",
    "    fixed_initial_costs,\n",
    "    fixed_yearly_costs)"
   ]
  },
  {
   "cell_type": "markdown",
   "metadata": {},
   "source": [
    "# Example\n",
    "\n",
    "Number of years: 20\n",
    "\n",
    "### Buying house\n",
    "* House price: 250k€\n",
    "* Interest rate: 2%\n",
    "* Initial costs:\n",
    "    * Notary: 3k€\n",
    "    * Registration: 25k€\n",
    "* Initial investment: 20k€\n",
    "\n",
    "### Renting\n",
    "* Rent: 775€\n",
    "\n",
    "### Assumptions on investment:\n",
    "* House valuation rate: 5%/year\n",
    "* Other investment: 5%/year"
   ]
  },
  {
   "cell_type": "code",
   "execution_count": 225,
   "metadata": {},
   "outputs": [],
   "source": [
    "ini_range = np.arange(0,house_value, 10)\n",
    "return_house = house_investment_return(\n",
    "    house_value,\n",
    "    ini_range,\n",
    "    int_rate,\n",
    "    value_rate,\n",
    "    n_years,\n",
    "    fixed_initial_costs,\n",
    "    fixed_yearly_costs)"
   ]
  },
  {
   "cell_type": "code",
   "execution_count": 226,
   "metadata": {},
   "outputs": [],
   "source": [
    "return_investment=return_on_investment(\n",
    "    ini_range,\n",
    "    yearly_return=investment_return,\n",
    "    monthly_io=month_diff,\n",
    "    n_years=n_years)"
   ]
  },
  {
   "cell_type": "code",
   "execution_count": 227,
   "metadata": {},
   "outputs": [
    {
     "data": {
      "text/plain": [
       "[<matplotlib.lines.Line2D at 0x1ffdacca6a0>]"
      ]
     },
     "execution_count": 227,
     "metadata": {},
     "output_type": "execute_result"
    },
    {
     "data": {
      "image/png": "[encoded data removed]",
      "text/plain": [
       "<Figure size 432x288 with 1 Axes>"
      ]
     },
     "metadata": {
      "needs_background": "light"
     },
     "output_type": "display_data"
    }
   ],
   "source": [
    "plt.plot(ini_range, return_house)\n",
    "plt.plot(ini_range, return_investment)"
   ]
  },
  {
   "cell_type": "code",
   "execution_count": null,
   "metadata": {},
   "outputs": [],
   "source": []
  }
 ],
 "metadata": {
  "kernelspec": {
   "display_name": "Python 3",
   "language": "python",
   "name": "python3"
  },
  "language_info": {
   "codemirror_mode": {
    "name": "ipython",
    "version": 3
   },
   "file_extension": ".py",
   "mimetype": "text/x-python",
   "name": "python",
   "nbconvert_exporter": "python",
   "pygments_lexer": "ipython3",
   "version": "3.6.8"
  }
 },
 "nbformat": 4,
 "nbformat_minor": 2
}
