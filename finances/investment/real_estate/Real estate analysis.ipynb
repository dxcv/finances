{
 "cells": [
  {
   "cell_type": "markdown",
   "metadata": {},
   "source": [
    "# Investing in real-estate"
   ]
  },
  {
   "cell_type": "code",
   "execution_count": 1,
   "metadata": {},
   "outputs": [],
   "source": [
    "import pandas as pd\n",
    "import numpy as np\n",
    "import matplotlib.pyplot as plt\n",
    "\n",
    "%matplotlib inline"
   ]
  },
  {
   "cell_type": "markdown",
   "metadata": {},
   "source": [
    "## House investment"
   ]
  },
  {
   "cell_type": "code",
   "execution_count": 2,
   "metadata": {},
   "outputs": [],
   "source": [
    "def value_house(n_years, house_value, house_ret):\n",
    "    return house_value*(1+house_ret)**n_years\n",
    "\n",
    "\n",
    "def total_pay_to_bank(\n",
    "    house_value,\n",
    "    n_years_plan,\n",
    "    int_rate_house,\n",
    "    initial_investment,\n",
    "    fixed_initial_costs=[0]\n",
    "    ):\n",
    "    \n",
    "    loan = house_value-initial_investment+np.sum(fixed_initial_costs)\n",
    "    pay_to_bank = loan*(1+int_rate_house)**n_years_plan\n",
    "    return pay_to_bank\n",
    "\n",
    "def house_investment_return(\n",
    "    house_value,\n",
    "    initial_investment,\n",
    "    int_rate,\n",
    "    value_rate,\n",
    "    n_years,\n",
    "    fixed_initial_costs=[0],\n",
    "    fixed_yearly_costs=[0]\n",
    "    ):\n",
    "    \n",
    "    pay_to_bank = total_pay_to_bank(\n",
    "        house_value,\n",
    "        n_years,\n",
    "        int_rate,\n",
    "        initial_investment,\n",
    "        fixed_initial_costs\n",
    "    )\n",
    "    total_yearly_costs = np.sum(fixed_yearly_costs)*n_years\n",
    "    total_paid = pay_to_bank+total_yearly_costs+initial_investment\n",
    "    \n",
    "    house_value = house_value*(1+value_rate)**n_years\n",
    "    total_investment_return = house_value-total_paid\n",
    "    \n",
    "    return total_investment_return"
   ]
  },
  {
   "cell_type": "code",
   "execution_count": null,
   "metadata": {},
   "outputs": [],
   "source": []
  },
  {
   "cell_type": "code",
   "execution_count": 3,
   "metadata": {},
   "outputs": [],
   "source": [
    "def monthly_pay_house(\n",
    "    house_value,\n",
    "    n_years,\n",
    "    int_rate,\n",
    "    initial_investment,\n",
    "    fixed_initial_costs,\n",
    "    monthly_expenses = 0\n",
    "    ):\n",
    "    \n",
    "    monthly_to_bank = total_pay_to_bank(\n",
    "        house_value,\n",
    "        n_years,\n",
    "        int_rate,\n",
    "        initial_investment,\n",
    "        fixed_initial_costs\n",
    "        )/n_years/12.0\n",
    "\n",
    "    return monthly_expenses + monthly_to_bank\n"
   ]
  },
  {
   "cell_type": "markdown",
   "metadata": {},
   "source": [
    "# Return in other investment"
   ]
  },
  {
   "cell_type": "code",
   "execution_count": 63,
   "metadata": {},
   "outputs": [],
   "source": [
    "def return_on_investment(initial_investment, yearly_return, monthly_io, n_years, annual_decr=0):\n",
    "    if monthly_io<0:\n",
    "        print('Negative monthly io')\n",
    "    value = initial_investment\n",
    "    monthly_return = (1+yearly_return)**(1/12.0)-1.0\n",
    "    for k in range(n_years):\n",
    "        monthly_io-=annual_decr\n",
    "        for month in range(12):\n",
    "            value*=(1+monthly_return)\n",
    "            value+=monthly_io\n",
    "    return value"
   ]
  },
  {
   "cell_type": "markdown",
   "metadata": {},
   "source": [
    "# Putting the two together\n",
    "\n",
    "If I buy a house, the ammount I will need to pay to the bank, monthly, is given by the function monthly_pay_house.\n",
    "\n",
    "These will be the only expenses I have for the house.\n",
    "\n",
    "On the other hand, if I rent the house, I have to pay the rent monthly, and that's it. Consider the month_diff to be the difference between what I pay monthly if I owned a house and what I pay for rent.\n",
    "\n",
    "Imagine that I take my initial investment and month_diff of each month and I invest it in a security with a given yearly rate return.\n",
    "\n",
    "Under which conditions is buying a house more advantageous?"
   ]
  },
  {
   "cell_type": "code",
   "execution_count": 64,
   "metadata": {},
   "outputs": [],
   "source": [
    "house_price = 200000.0\n",
    "initial_investment = 10000.0\n",
    "int_rate = 0.02\n",
    "value_house_rate = 0.05\n",
    "n_years = 20\n",
    "rent = 775\n",
    "investment_return = 0.05\n",
    "fixed_initial_costs = np.array([\n",
    "    house_price*0.1, # register\n",
    "    3000, #notary\n",
    "    ])\n",
    "fixed_yearly_costs = np.array([0])"
   ]
  },
  {
   "cell_type": "code",
   "execution_count": 65,
   "metadata": {},
   "outputs": [
    {
     "data": {
      "text/plain": [
       "204152.74568549485"
      ]
     },
     "execution_count": 65,
     "metadata": {},
     "output_type": "execute_result"
    }
   ],
   "source": [
    "house_investment_return(\n",
    "    house_price,\n",
    "    initial_investment,\n",
    "    int_rate,\n",
    "    value_house_rate,\n",
    "    n_years,\n",
    "    fixed_initial_costs,\n",
    "    fixed_yearly_costs)"
   ]
  },
  {
   "cell_type": "code",
   "execution_count": 66,
   "metadata": {},
   "outputs": [
    {
     "data": {
      "text/plain": [
       "1318.77831393079"
      ]
     },
     "execution_count": 66,
     "metadata": {},
     "output_type": "execute_result"
    }
   ],
   "source": [
    "monthly_pay_house(\n",
    "    house_price,\n",
    "    n_years,\n",
    "    int_rate,\n",
    "    initial_investment,\n",
    "    fixed_initial_costs,\n",
    "    monthly_expenses = 0\n",
    "    )"
   ]
  },
  {
   "cell_type": "code",
   "execution_count": 67,
   "metadata": {},
   "outputs": [
    {
     "name": "stdout",
     "output_type": "stream",
     "text": [
      "543.7783139307901\n"
     ]
    }
   ],
   "source": [
    "month_diff = monthly_pay_house(\n",
    "    house_price,\n",
    "    n_years,\n",
    "    int_rate,\n",
    "    initial_investment,\n",
    "    fixed_initial_costs,\n",
    "    monthly_expenses = np.sum(fixed_yearly_costs)/12\n",
    "    ) - rent\n",
    "\n",
    "print(month_diff)\n",
    "\n",
    "final_investment_value = return_on_investment(\n",
    "    initial_investment,\n",
    "    yearly_return=investment_return,\n",
    "    monthly_io=month_diff,\n",
    "    n_years=n_years)"
   ]
  },
  {
   "cell_type": "code",
   "execution_count": 68,
   "metadata": {},
   "outputs": [
    {
     "data": {
      "text/plain": [
       "43047.91017761713"
      ]
     },
     "execution_count": 68,
     "metadata": {},
     "output_type": "execute_result"
    }
   ],
   "source": [
    "final_investment_value - house_investment_return(\n",
    "    house_price,\n",
    "    initial_investment,\n",
    "    int_rate,\n",
    "    value_house_rate,\n",
    "    n_years,\n",
    "    fixed_initial_costs,\n",
    "    fixed_yearly_costs)"
   ]
  },
  {
   "cell_type": "markdown",
   "metadata": {},
   "source": [
    "# Example\n",
    "\n",
    "Number of years: 20\n",
    "\n",
    "### Buying house\n",
    "* House price: 200k€\n",
    "* Interest rate: variable\n",
    "* Initial costs:\n",
    "    * Notary: 3k€\n",
    "    * Registration: 20k€\n",
    "* Initial investment: 10k€\n",
    "\n",
    "### Renting\n",
    "* Rent: 775€\n",
    "\n",
    "### Assumptions on investment:\n",
    "* House valuation rate: 5%/year\n",
    "* Other investment: 5%/year"
   ]
  },
  {
   "cell_type": "code",
   "execution_count": 69,
   "metadata": {},
   "outputs": [],
   "source": [
    "int_rate=np.arange(0,0.04,0.005)"
   ]
  },
  {
   "cell_type": "code",
   "execution_count": 70,
   "metadata": {},
   "outputs": [],
   "source": [
    "return_house = house_investment_return(\n",
    "    house_price,\n",
    "    initial_investment,\n",
    "    int_rate,\n",
    "    value_house_rate,\n",
    "    n_years,\n",
    "    fixed_initial_costs,\n",
    "    fixed_yearly_costs)"
   ]
  },
  {
   "cell_type": "code",
   "execution_count": 71,
   "metadata": {},
   "outputs": [
    {
     "data": {
      "text/plain": [
       "array([ 887.5       ,  980.59482475, 1082.91866045, 1195.33381831,\n",
       "       1318.77831393, 1454.27209076, 1602.92372077, 1765.93761633])"
      ]
     },
     "execution_count": 71,
     "metadata": {},
     "output_type": "execute_result"
    }
   ],
   "source": [
    "monthly_pay_house(\n",
    "    house_price,\n",
    "    n_years,\n",
    "    int_rate,\n",
    "    initial_investment,\n",
    "    fixed_initial_costs,\n",
    "    monthly_expenses = np.sum(fixed_yearly_costs)/12\n",
    "    )"
   ]
  },
  {
   "cell_type": "code",
   "execution_count": 77,
   "metadata": {},
   "outputs": [],
   "source": [
    "return_investment=return_on_investment(\n",
    "    initial_investment,\n",
    "    yearly_return=investment_return,\n",
    "    monthly_io=month_diff,\n",
    "    n_years=n_years,\n",
    "    annual_decr=value_house_rate\n",
    ")"
   ]
  },
  {
   "cell_type": "code",
   "execution_count": 78,
   "metadata": {},
   "outputs": [
    {
     "data": {
      "text/plain": [
       "<matplotlib.legend.Legend at 0x1efb1993978>"
      ]
     },
     "execution_count": 78,
     "metadata": {},
     "output_type": "execute_result"
    },
    {
     "data": {
      "image/png": "[encoded data removed]",
      "text/plain": [
       "<Figure size 432x288 with 1 Axes>"
      ]
     },
     "metadata": {},
     "output_type": "display_data"
    }
   ],
   "source": [
    "import seaborn as sns\n",
    "\n",
    "sns.set_context('notebook')\n",
    "sns.set_style('whitegrid')\n",
    "sns.set_palette('dark')\n",
    "plt.plot(int_rate*100, return_house, label='buy house')\n",
    "plt.plot(int_rate*100, return_investment+int_rate*0.0, label='rent house')\n",
    "plt.title('Final Investment Return')\n",
    "plt.ylabel('Return (Eur)')\n",
    "plt.xlabel('Interest Rate (%)')\n",
    "plt.legend()"
   ]
  },
  {
   "cell_type": "code",
   "execution_count": 56,
   "metadata": {},
   "outputs": [
    {
     "data": {
      "text/plain": [
       "300.0"
      ]
     },
     "execution_count": 56,
     "metadata": {},
     "output_type": "execute_result"
    }
   ],
   "source": [
    "300/80*80"
   ]
  },
  {
   "cell_type": "code",
   "execution_count": null,
   "metadata": {},
   "outputs": [],
   "source": []
  }
 ],
 "metadata": {
  "kernelspec": {
   "display_name": "Python 3",
   "language": "python",
   "name": "python3"
  },
  "language_info": {
   "codemirror_mode": {
    "name": "ipython",
    "version": 3
   },
   "file_extension": ".py",
   "mimetype": "text/x-python",
   "name": "python",
   "nbconvert_exporter": "python",
   "pygments_lexer": "ipython3",
   "version": "3.6.8"
  }
 },
 "nbformat": 4,
 "nbformat_minor": 2
}
